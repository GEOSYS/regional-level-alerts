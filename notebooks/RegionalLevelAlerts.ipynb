{
 "cells": [
  {
   "cell_type": "markdown",
   "metadata": {},
   "source": [
    "# Regional Level Alerts\n",
    "\n",
    "\n",
    "> 👋 Before moving on with this demo, you must first sign-up and request your Geosys APIs credentials here :\n",
    "> - ⚙️[Try it now](https://www.earthdaily.com/geosys/geosys-api/)\n",
    "\n",
    "> For more information about our Geosys APIs : \n",
    "> - 📚 [Geosys APIs to connect with your digital ag application](https://www.earthdaily.com/geosys/geosys-api/)\n",
    "\n",
    "\n",
    "> **Demo Project:** This demo demonstrates the ability to get weather or vegetation alerts on a regional entity based on a defined parameter (weather or vegetation) and threshold.\n",
    "\n",
    "\n",
    "\n",
    "### @author: Geosys\n",
    "\n",
    "\n",
    "\n",
    " ## 1️⃣ Import all librairies needed and get an autorization to use RegionalLevelAlerts"
   ]
  },
  {
   "cell_type": "code",
   "execution_count": null,
   "metadata": {},
   "outputs": [],
   "source": [
    "import sys\n",
    "import os\n",
    "sys.path.append(os.path.join('..','src'))\n",
    "\n",
    "import logging\n",
    "from dotenv import load_dotenv\n",
    "from datetime import datetime\n",
    "from geosyspy import Geosys\n",
    "from geosyspy.utils.constants import *\n",
    "from regionallevelalerts.processor import RegionalLevelAlerts\n",
    "from regionallevelalerts import utils\n",
    "\n",
    "logger = logging.getLogger()\n",
    "logger.setLevel(logging.WARN)\n",
    "\n",
    "# read .env file\n",
    "load_dotenv()\n",
    "\n",
    "API_CLIENT_ID = os.getenv('API_CLIENT_ID')\n",
    "API_CLIENT_SECRET = os.getenv('API_CLIENT_SECRET')\n",
    "API_USERNAME = os.getenv('API_USERNAME')\n",
    "API_PASSWORD = os.getenv('API_PASSWORD')\n",
    "\n",
    "# Create and initialize the client\n",
    "print(\"Initializing the client...\")\n",
    "client = RegionalLevelAlerts(API_CLIENT_ID, API_CLIENT_SECRET, API_USERNAME, API_PASSWORD, Env.PROD, Region.NA)\n",
    "print(\"Client initialized !\")\n"
   ]
  },
  {
   "cell_type": "markdown",
   "metadata": {},
   "source": [
    " ## 2️⃣ Get Weather Alerts\n",
    "\n",
    "The following parameters are used as an input to get regional entities in alert:\n",
    "\n",
    "##### blockCode: \n",
    "The Block containing the regional entities to analyze\n",
    "\n",
    "##### weatherType: \n",
    "The type of weather to take into account to get alerts\n",
    "\n",
    "#### operator: \n",
    "The operator used to compare weather values and the threshold\n",
    "\n",
    "#### startDate: \n",
    "A datetime object representing the beginning of the period to analyze\n",
    "\n",
    "#### endDate: \n",
    "A datetime object representing the end of the period to analyze\n",
    "\n",
    "#### threshold: \n",
    "A floating-point value representing the threshold used to determine alerts\n"
   ]
  },
  {
   "cell_type": "code",
   "execution_count": null,
   "metadata": {},
   "outputs": [],
   "source": [
    "try:\n",
    "    # Input parameters\n",
    "    blockCode = AgriquestBlocks.FRA_DEPARTEMENTS\n",
    "    startDate = datetime.strptime(\"2022-01-01\", \"%Y-%m-%d\").date()\n",
    "    endDate = datetime.strptime(\"2022-12-31\", \"%Y-%m-%d\").date()\n",
    "    weatherType = AgriquestWeatherType.MAX_TEMPERATURE\n",
    "    threshold = 100\n",
    "    operator = utils.NumbersComparisonOperator.GREATER_THAN\n",
    "    \n",
    "    # Get weather alerts DataFrame\n",
    "    regional_level_alerts_df = client.get_weather_alerts(blockCode, startDate, endDate, weatherType, threshold, operator)\n",
    "    if regional_level_alerts_df is None:\n",
    "        print(\"get_weather_alerts: No data found\")\n",
    "    else:\n",
    "        # Save result DataFrame into a csv\n",
    "        weather_alerts_csv_file_path = utils.save_dataframe_to_temporary_csv(regional_level_alerts_df, \"_weather\")\n",
    "        print(f\"get_weather_alerts CSV: {weather_alerts_csv_file_path}\")\n",
    "\n",
    "        # Upload the csv on AWS S3 and Azure Blob Storage\n",
    "        if utils.write_file_to_aws_s3(weather_alerts_csv_file_path):\n",
    "           print(\"File uploaded to AWS\")\n",
    "        if utils.write_file_to_azure_blob_storage(weather_alerts_csv_file_path):\n",
    "           print(\"File uploaded to Azure\")\n",
    "\n",
    "        # Optionally save it locally where you want just like this :\n",
    "        # regional_level_alerts_df.to_csv(<my_file_path_and_name>, index=False)\n",
    "\n",
    "except Exception as exc:\n",
    "    print(f\"Error: {exc}\")\n"
   ]
  },
  {
   "cell_type": "markdown",
   "metadata": {},
   "source": [
    " ## 3️⃣ Get Vegetation Alerts\n",
    "\n",
    "The following parameters are used as an input to get regional entities in alert:\n",
    "\n",
    "##### blockCode: \n",
    "The Block containing the regional entities to analyze\n",
    "\n",
    "#### operator: \n",
    "The operator used to compare NDVI values and the threshold\n",
    "\n",
    "#### observationDate: \n",
    "A datetime object representing the date to analyze\n",
    "\n",
    "#### threshold: \n",
    "A floating-point value representing the threshold used to determine alerts\n"
   ]
  },
  {
   "cell_type": "code",
   "execution_count": null,
   "metadata": {},
   "outputs": [],
   "source": [
    "try:\n",
    "    # Input parameters\n",
    "    blockCode = AgriquestBlocks.FRA_DEPARTEMENTS\n",
    "    observationDate = datetime.strptime(\"2022-12-31\", \"%Y-%m-%d\").date()\n",
    "    threshold = 0.55\n",
    "    operator = utils.NumbersComparisonOperator.GREATER_THAN\n",
    "    \n",
    "    # Get vegetation alerts DataFrame\n",
    "    regional_level_alerts_df = client.get_vegetation_alerts(blockCode, observationDate, threshold, operator)\n",
    "    if regional_level_alerts_df is None:\n",
    "        print(\"get_vegetation_alerts: No data found\")\n",
    "    else:\n",
    "        # Save result DataFrame into a csv\n",
    "        vegetation_alerts_csv_file_path = utils.save_dataframe_to_temporary_csv(regional_level_alerts_df, \"_vegetation\")\n",
    "        print(f\"get_vegetation_alerts CSV: {vegetation_alerts_csv_file_path}\")\n",
    "\n",
    "        # Upload the csv on AWS S3 and Azure Blob Storage\n",
    "        if utils.write_file_to_aws_s3(vegetation_alerts_csv_file_path):\n",
    "           print(\"File uploaded to AWS\")\n",
    "        if utils.write_file_to_azure_blob_storage(vegetation_alerts_csv_file_path):\n",
    "           print(\"File uploaded to Azure\")\n",
    "\n",
    "        # Optionally save it locally where you want just like this :\n",
    "        # regional_level_alerts_df.to_csv(<my_file_path_and_name>, index=False)\n",
    "\n",
    "except Exception as exc:\n",
    "    print(f\"Error: {exc}\")\n"
   ]
  },
  {
   "cell_type": "code",
   "execution_count": null,
   "metadata": {},
   "outputs": [],
   "source": []
  }
 ],
 "metadata": {
  "kernelspec": {
   "display_name": "Python 3.11.3 ('debug_regionallevelalerts_geosyspy_jpn')",
   "language": "python",
   "name": "python3"
  },
  "language_info": {
   "codemirror_mode": {
    "name": "ipython",
    "version": 3
   },
   "file_extension": ".py",
   "mimetype": "text/x-python",
   "name": "python",
   "nbconvert_exporter": "python",
   "pygments_lexer": "ipython3",
   "version": "3.11.3"
  },
  "vscode": {
   "interpreter": {
    "hash": "049c58d73ac845a54c1eaabf47e06e883e0b95189e6f4969077d17b00ffc9b17"
   }
  }
 },
 "nbformat": 4,
 "nbformat_minor": 2
}
